{
 "cells": [
  {
   "cell_type": "markdown",
   "id": "74c811ea",
   "metadata": {},
   "source": [
    "### Canindo, Joweh E.\n",
    "### BSCPE 2-3\n",
    "## Laboratory Exercise 2: List Comprehension\n",
    "### Deadline Oct 1, 2025\n",
    "### https://docs.google.com/forms/d/e/1FAIpQLSdGlKFXe7fNKe1ODweQ8xES8L6T3TO5SYGASiJejSnieEcwAw/viewform?usp=header\n"
   ]
  },
  {
   "cell_type": "markdown",
   "id": "0b371f0b",
   "metadata": {},
   "source": [
    "1. Convert Celsius temperatures to Fahrenheit, only for temps above 0°C\n",
    "\n",
    "    Celsius: [-5, 0, 10, 25, 30, -2, 15, 35]\n",
    "\n",
    "    Fahrenheit (>0°C only): [50.0, 77.0, 86.0, 59.0, 95.0]"
   ]
  },
  {
   "cell_type": "code",
   "execution_count": 1,
   "id": "fe675ac3",
   "metadata": {},
   "outputs": [
    {
     "name": "stdout",
     "output_type": "stream",
     "text": [
      "Fahrenheit (>0°C only): [50.0, 77.0, 86.0, 59.0, 95.0]\n"
     ]
    }
   ],
   "source": [
    "celsius = [-5, 0, 10, 25, 30, -2, 15, 35]\n",
    "fahrenheit_above_zero = [round((c * 9/5) + 32, 1) for c in celsius if c > 0]\n",
    "print(\"Fahrenheit (>0°C only):\", fahrenheit_above_zero)"
   ]
  },
  {
   "cell_type": "markdown",
   "id": "13bbb90b",
   "metadata": {},
   "source": [
    "2. Extract valid numeric grades and categorize them (passing graade is >=80)\n",
    "\n",
    "    Raw grades: ['85', 'invalid', '92', '78', '', '95', 'not_a_grade', '88']\n",
    "\n",
    "    Grade results: ['Pass', 'Pass', 'Fail', 'Pass',  'Pass']"
   ]
  },
  {
   "cell_type": "code",
   "execution_count": 2,
   "id": "07f47401",
   "metadata": {},
   "outputs": [
    {
     "name": "stdout",
     "output_type": "stream",
     "text": [
      "Grade results: ['Pass', 'Pass', 'Fail', 'Pass', 'Pass']\n"
     ]
    }
   ],
   "source": [
    "raw_grades = ['85', 'invalid', '92', '78', '', '95', 'not_a_grade', '88']\n",
    "\n",
    "def parse_grade(s):\n",
    "    try:\n",
    "        return int(s)\n",
    "    except:\n",
    "        return None\n",
    "\n",
    "clean_grades = [parse_grade(x) for x in raw_grades]\n",
    "grade_results = ['Pass' if (g is not None and g >= 80) else 'Fail' for g in clean_grades if g is not None]\n",
    "print(\"Grade results:\", grade_results)"
   ]
  },
  {
   "cell_type": "markdown",
   "id": "affe8f86",
   "metadata": {},
   "source": [
    "3. Extract words longer than 4 characters and reverse them\n",
    "\n",
    "    Original: The quick brown fox jumps over the lazy dog\n",
    "\n",
    "    Reversed long words: ['kciuq', 'nworb', 'spmuj']"
   ]
  },
  {
   "cell_type": "code",
   "execution_count": 3,
   "id": "81e263a9",
   "metadata": {},
   "outputs": [
    {
     "name": "stdout",
     "output_type": "stream",
     "text": [
      "Reversed long words: ['kciuq', 'nworb', 'spmuj']\n"
     ]
    }
   ],
   "source": [
    "text = \"The quick brown fox jumps over the lazy dog\"\n",
    "reversed_long_words = [word[::-1] for word in text.split() if len(word) > 4]\n",
    "print(\"Reversed long words:\", reversed_long_words)\n"
   ]
  },
  {
   "cell_type": "markdown",
   "id": "7bafd4d9",
   "metadata": {},
   "source": [
    "4.  Extract valid email addresses and get their domains\n",
    "\n",
    "    Emails: ['user@gmail.com', 'invalid-email', 'test@yahoo.com', 'bad@', 'admin@company.org', 'no-at-sign.com']\n",
    "\n",
    "    Valid domains: ['gmail.com', 'yahoo.com', 'company.org']"
   ]
  },
  {
   "cell_type": "code",
   "execution_count": 4,
   "id": "12e52235",
   "metadata": {},
   "outputs": [
    {
     "name": "stdout",
     "output_type": "stream",
     "text": [
      "Valid domain: ['gmail.com', 'yahoo.com', 'company.org']\n"
     ]
    }
   ],
   "source": [
    "emails = ['user@gmail.com', 'invalid-email', 'test@yahoo.com', 'bad@', 'admin@company.org', 'no-at-sign.com']\n",
    "valid_domains = [email.split('@')[1] for email in emails if '@' in email and '.' in email.split('@')[-1]]\n",
    "print(\"Valid domain:\", valid_domains)"
   ]
  },
  {
   "cell_type": "markdown",
   "id": "5cd41257",
   "metadata": {},
   "source": [
    "5. Find perfect squares that are also even, within range 1-100\n",
    "\n",
    "    Even perfect squares (1-100): [4, 16, 36, 64, 100]"
   ]
  },
  {
   "cell_type": "code",
   "execution_count": 5,
   "id": "a4c76427",
   "metadata": {},
   "outputs": [
    {
     "name": "stdout",
     "output_type": "stream",
     "text": [
      "Even perfect squares (1-100): [4, 16, 36, 64, 100]\n"
     ]
    }
   ],
   "source": [
    "even_perfect_squares = [n*n for n in range(1, 11) if (n*n) % 2 == 0]\n",
    "print(\"Even perfect squares (1-100):\", even_perfect_squares)\n"
   ]
  }
 ],
 "metadata": {
  "kernelspec": {
   "display_name": "Python 3",
   "language": "python",
   "name": "python3"
  },
  "language_info": {
   "codemirror_mode": {
    "name": "ipython",
    "version": 3
   },
   "file_extension": ".py",
   "mimetype": "text/x-python",
   "name": "python",
   "nbconvert_exporter": "python",
   "pygments_lexer": "ipython3",
   "version": "3.13.5"
  }
 },
 "nbformat": 4,
 "nbformat_minor": 5
}
